{
 "cells": [
  {
   "cell_type": "code",
   "execution_count": 1,
   "metadata": {},
   "outputs": [
    {
     "name": "stderr",
     "output_type": "stream",
     "text": [
      "<>:12: SyntaxWarning: \"is\" with a literal. Did you mean \"==\"?\n",
      "<>:12: SyntaxWarning: \"is\" with a literal. Did you mean \"==\"?\n",
      "<ipython-input-1-d3f6211534dc>:12: SyntaxWarning: \"is\" with a literal. Did you mean \"==\"?\n",
      "  if faces is ():\n"
     ]
    },
    {
     "name": "stdout",
     "output_type": "stream",
     "text": [
      "Face Not Found!\n",
      "Face Not Found!\n",
      "Face Not Found!\n",
      "Face Not Found!\n",
      "Face Not Found!\n",
      "Face Not Found!\n",
      "Face Not Found!\n",
      "Face Not Found!\n",
      "Face Not Found!\n",
      "Collecting Samples Complete\n"
     ]
    }
   ],
   "source": [
    "import numpy as np \n",
    "import cv2 \n",
    "import time\n",
    "import os,subprocess\n",
    "\n",
    "face_classifier = cv2.CascadeClassifier('haarcascade_frontalface_default.xml')\n",
    "\n",
    "def face_extractor(img):\n",
    "    gray = cv2.cvtColor(img, cv2.COLOR_BGR2GRAY)\n",
    "    faces = face_classifier.detectMultiScale(gray, 1.3 , 5)\n",
    "    \n",
    "    if faces is ():\n",
    "        return None \n",
    "    \n",
    "    for(x,y,w,h) in faces:\n",
    "        cropped_face = img[y:y+h , x:x+w]\n",
    "        \n",
    "    return cropped_face\n",
    "    \n",
    "cap = cv2.VideoCapture(0) \n",
    "count = 0\n",
    "\n",
    "while True: \n",
    "    \n",
    "    ret, frame = cap.read()\n",
    "    if face_extractor(frame) is not None: \n",
    "        count += 1 \n",
    "        face = cv2.resize(face_extractor(frame), (200 , 200))\n",
    "        face = cv2.cvtColor(face , cv2.COLOR_BGR2GRAY)\n",
    "        \n",
    "        file_name_path = './faces/user/' + str(count) + '.jpg'\n",
    "        cv2.imwrite(file_name_path, face)\n",
    "        \n",
    "        cv2.putText(face, str(count), (50 , 50), cv2.FONT_HERSHEY_COMPLEX, 1, (0,255,0), 2)\n",
    "        cv2.imshow('face cropper', face)\n",
    "    else:\n",
    "        print('Face Not Found!')\n",
    "        pass\n",
    "    \n",
    "    if cv2.waitKey(1) == 13 or count == 100: \n",
    "        break\n",
    "        \n",
    "cap.release()\n",
    "cv2.destroyAllWindows()\n",
    "print(\"Collecting Samples Complete\")"
   ]
  },
  {
   "cell_type": "code",
   "execution_count": 2,
   "metadata": {},
   "outputs": [],
   "source": [
    "cap.release()"
   ]
  },
  {
   "cell_type": "code",
   "execution_count": 3,
   "metadata": {},
   "outputs": [],
   "source": [
    "def email():\n",
    "    import smtplib\n",
    "    from email.message import EmailMessage\n",
    "\n",
    "    msg=EmailMessage()\n",
    "    msg['Subject']=\"Face Recognition \"\n",
    "    msg['From']=\"Kratik Shukla\"\n",
    "    msg['To']=\"kratikshuklaofficial@gmail.com\"\n",
    "    msg.set_content(\"Face Recognised\")\n",
    "\n",
    "    server=smtplib.SMTP_SSL(\"smtp.gmail.com\")\n",
    "    server.login(\"kratikshukla6@gmail.com\",\"7509308574\")\n",
    "    server.send_message(msg)\n",
    "    server.quit()\n",
    "    print(\"Successfully Sended Mail\")\n",
    "    return True"
   ]
  },
  {
   "cell_type": "code",
   "execution_count": 4,
   "metadata": {},
   "outputs": [],
   "source": [
    "    \n",
    "def whatsapp():    \n",
    "    import pywhatkit as kit\n",
    "    #import PersonalDetails as p\n",
    "    #import importlib\n",
    "    #importlib.reload(p)\n",
    "    text=\"Successfully complete the task 6\"\n",
    "    kit.sendwhatmsg_instantly(\"+916266940739\",text,2)\n",
    "    Print(\"successfully Sended Whatsapp msg\")\n",
    "    return True"
   ]
  },
  {
   "cell_type": "code",
   "execution_count": 5,
   "metadata": {},
   "outputs": [],
   "source": [
    "def launch_ec2():\n",
    "    \n",
    "    os.system('aws ec2 run-instances --image-id ami-011c99152163a87ae --count 1 --instance-type t2.micro --key-name terraform_key --security-group-ids sg-008ce00364a066a78 ')\n",
    "    time.sleep(30)\n",
    "    return\n"
   ]
  },
  {
   "cell_type": "code",
   "execution_count": 6,
   "metadata": {},
   "outputs": [],
   "source": [
    "def create_ebs():\n",
    "    import os , subprocess , time\n",
    "    az = subprocess.getoutput('aws ec2 describe-instances --filters Name=instance-state-name,Values=running --query \"Reservations[].Instances[].Placement.AvailabilityZone\" --output text')\n",
    "    os.system('aws ec2 create-volume --availability-zone  {} --size 5'.format(az))\n",
    "    time.sleep(60)\n",
    "    return"
   ]
  },
  {
   "cell_type": "code",
   "execution_count": 7,
   "metadata": {},
   "outputs": [],
   "source": [
    "def attach_ebs():\n",
    "    instance_id = subprocess.getoutput('aws ec2 describe-instances --filters Name=instance-state-name,Values=running --query \"Reservations[].Instances[].InstanceId\" --output text')\n",
    "    volume_id = subprocess.getoutput('aws ec2 describe-volumes --filters Name=size,Values=5 --query \"Volumes[*].VolumeId\" --output text')\n",
    "    time.sleep(20)\n",
    "    os.system('aws ec2 attach-volume --device /dev/sdh --instance-id {} --volume-id {}'.format(instance_id, volume_id))\n",
    "    time.sleep(10)\n",
    "    return"
   ]
  },
  {
   "cell_type": "code",
   "execution_count": 8,
   "metadata": {},
   "outputs": [
    {
     "name": "stdout",
     "output_type": "stream",
     "text": [
      "1st Model Trained Successfully\n"
     ]
    }
   ],
   "source": [
    "import cv2\n",
    "import numpy as np \n",
    "from os import listdir\n",
    "from os.path import isfile, join \n",
    "\n",
    "data_path = './faces/user/'\n",
    "onlyfiles = [f for f in listdir(data_path) if isfile(join(data_path, f)) ]\n",
    "\n",
    "Trainig_data, Labels = [], []\n",
    "\n",
    "for i, files in enumerate(onlyfiles):\n",
    "    image_path = data_path + onlyfiles[i]\n",
    "    images = cv2.imread(image_path, cv2.IMREAD_GRAYSCALE)\n",
    "    Trainig_data.append(np.asarray(images, dtype=np.uint8))\n",
    "    Labels.append(i)\n",
    "    \n",
    "Labels = np.asarray(Labels, dtype=np.int32)\n",
    "\n",
    "kratik_model = cv2.face_LBPHFaceRecognizer.create()\n",
    "\n",
    "kratik_model.train(np.asarray(Trainig_data), np.asarray(Labels))\n",
    "print('1st Model Trained Successfully')"
   ]
  },
  {
   "cell_type": "code",
   "execution_count": null,
   "metadata": {},
   "outputs": [],
   "source": [
    "import cv2\n",
    "import numpy as np \n",
    "from os import listdir\n",
    "from os.path import isfile, join \n",
    "\n",
    "data_path = './faces/user1/'\n",
    "onlyfiles = [f for f in listdir(data_path) if isfile(join(data_path, f)) ]\n",
    "\n",
    "Trainig_data, Labels = [], []\n",
    "\n",
    "for i, files in enumerate(onlyfiles):\n",
    "    image_path = data_path + onlyfiles[i]\n",
    "    images = cv2.imread(image_path, cv2.IMREAD_GRAYSCALE)\n",
    "    Trainig_data.append(np.asarray(images, dtype=np.uint8))\n",
    "    Labels.append(i)\n",
    "    \n",
    "Labels = np.asarray(Labels, dtype=np.int32)\n",
    "\n",
    "payal_model = cv2.face_LBPHFaceRecognizer.create()\n",
    "\n",
    "payal_model.train(np.asarray(Trainig_data), np.asarray(Labels))\n",
    "print('2nd Model Trained Successfully')"
   ]
  },
  {
   "cell_type": "code",
   "execution_count": 9,
   "metadata": {},
   "outputs": [
    {
     "name": "stderr",
     "output_type": "stream",
     "text": [
      "<>:13: SyntaxWarning: \"is\" with a literal. Did you mean \"==\"?\n",
      "<>:13: SyntaxWarning: \"is\" with a literal. Did you mean \"==\"?\n",
      "<ipython-input-9-c3f91aefa67f>:13: SyntaxWarning: \"is\" with a literal. Did you mean \"==\"?\n",
      "  if faces is ():\n"
     ]
    },
    {
     "name": "stdout",
     "output_type": "stream",
     "text": [
      "Successfully Sended Mail\n"
     ]
    }
   ],
   "source": [
    "import cv2 \n",
    "import numpy as np \n",
    "import os \n",
    "import smtplib\n",
    "import subprocess\n",
    "\n",
    "face_classifier = cv2.CascadeClassifier('haarcascade_frontalface_default.xml')\n",
    "\n",
    "def face_detector(img, size=0.5):\n",
    "    \n",
    "    gray = cv2.cvtColor(img,cv2.COLOR_BGR2GRAY)\n",
    "    faces = face_classifier.detectMultiScale(gray, 1.3, 5)\n",
    "    if faces is ():\n",
    "        return img, []\n",
    "    \n",
    "    \n",
    "    for (x,y,w,h) in faces: \n",
    "        cv2.rectangle(img,(x,y),(x+w, y+h), (0,255,0),2)\n",
    "        roi = img[y:y+h , x:x+w]\n",
    "        roi = cv2.resize(roi, (200 , 200))\n",
    "    return img , roi\n",
    "\n",
    "\n",
    "cap = cv2.VideoCapture(0)\n",
    "\n",
    "while True: \n",
    "    \n",
    "    ret, frame = cap.read()\n",
    "    \n",
    "    image, face = face_detector(frame)\n",
    "    \n",
    "    try:\n",
    "        face = cv2.cvtColor(face, cv2.COLOR_BGR2GRAY)\n",
    "        results = kratik_model.predict(face)\n",
    "        \n",
    "        if results[1] < 500:\n",
    "            confidence = int( 100 * (1 - (results[1])/400) )\n",
    "            display_string = str(confidence) + '% Confident it is user '\n",
    "            \n",
    "        cv2.putText(image, display_string, (100,120), cv2.FONT_HERSHEY_COMPLEX, 1, (255,120,150),2)\n",
    "        \n",
    "        if confidence > 85: \n",
    "            cv2.putText(image, \"Hey Kratik\", (250, 450), cv2.FONT_HERSHEY_COMPLEX, 1, (0,255,0),2)\n",
    "            cv2.imshow('Face Recognition', image )\n",
    "            cv2.waitKey(1)\n",
    "            cv2.destroyAllWindows()\n",
    "            email()\n",
    "            break\n",
    "        \n",
    "        \n",
    "        \n",
    "        else: \n",
    "            cv2.putText(image, \"Don't know Who are you\", (250, 450), cv2.FONT_HERSHEY_COMPLEX, 1, (0,0,255),2)\n",
    "            cv2.imshow('Face Recognition', image )\n",
    "            \n",
    "    except: \n",
    "        cv2.putText(image, \"No Face Found\", (220, 120), cv2.FONT_HERSHEY_COMPLEX, 1, (0,0,255),2)\n",
    "        cv2.putText(image, \"Looking for face\", (250, 450), cv2.FONT_HERSHEY_COMPLEX, 1, (0,0,255),2)\n",
    "        cv2.imshow('Face Recognition', image )\n",
    "        pass\n",
    "        \n",
    "    if cv2.waitKey(1) == 13:\n",
    "        break\n",
    "        \n",
    "        \n",
    "cap.release()\n",
    "cv2.destroyAllWindows()"
   ]
  },
  {
   "cell_type": "code",
   "execution_count": 10,
   "metadata": {},
   "outputs": [
    {
     "name": "stderr",
     "output_type": "stream",
     "text": [
      "<>:13: SyntaxWarning: \"is\" with a literal. Did you mean \"==\"?\n",
      "<>:13: SyntaxWarning: \"is\" with a literal. Did you mean \"==\"?\n",
      "<ipython-input-10-3e6920cf3393>:13: SyntaxWarning: \"is\" with a literal. Did you mean \"==\"?\n",
      "  if faces is ():\n"
     ]
    },
    {
     "name": "stdout",
     "output_type": "stream",
     "text": [
      "Successfully launched EC2 instance... \n",
      "Successfully created EBS volume of 5 GiB \n",
      "Successfully attached EBS volume.... \n"
     ]
    }
   ],
   "source": [
    "import cv2 \n",
    "import numpy as np \n",
    "import os \n",
    "import smtplib\n",
    "import subprocess\n",
    "\n",
    "face_classifier = cv2.CascadeClassifier('haarcascade_frontalface_default.xml')\n",
    "\n",
    "def face_detector(img, size=0.5):\n",
    "    \n",
    "    gray = cv2.cvtColor(img,cv2.COLOR_BGR2GRAY)\n",
    "    faces = face_classifier.detectMultiScale(gray, 1.3, 5)\n",
    "    if faces is ():\n",
    "        return img, []\n",
    "    \n",
    "    \n",
    "    for (x,y,w,h) in faces: \n",
    "        cv2.rectangle(img,(x,y),(x+w, y+h), (0,255,0),2)\n",
    "        roi = img[y:y+h , x:x+w]\n",
    "        roi = cv2.resize(roi, (200 , 200))\n",
    "    return img , roi\n",
    "\n",
    "\n",
    "cap = cv2.VideoCapture(0)\n",
    "\n",
    "while True: \n",
    "    \n",
    "    ret, frame = cap.read()\n",
    "    \n",
    "    image, face = face_detector(frame)\n",
    "    \n",
    "    try:\n",
    "        face = cv2.cvtColor(face, cv2.COLOR_BGR2GRAY)\n",
    "        results = kratik_model.predict(face)\n",
    "        \n",
    "        if results[1] < 500:\n",
    "            confidence = int( 100 * (1 - (results[1])/400) )\n",
    "            display_string = str(confidence) + '% Confident it is user '\n",
    "            \n",
    "        cv2.putText(image, display_string, (100,120), cv2.FONT_HERSHEY_COMPLEX, 1, (255,120,150),2)\n",
    "        \n",
    "        if confidence > 85: \n",
    "            cv2.putText(image, \"Hey Kratik\", (250, 450), cv2.FONT_HERSHEY_COMPLEX, 1, (0,255,0),2)\n",
    "            cv2.imshow('Face Recognition', image )\n",
    "            cv2.waitKey(1)\n",
    "            cv2.destroyAllWindows()\n",
    "            launch_ec2()\n",
    "            print(\"Successfully launched EC2 instance... \")\n",
    "            create_ebs()\n",
    "            print(\"Successfully created EBS volume of 5 GiB \")\n",
    "            attach_ebs()\n",
    "            print(\"Successfully attached EBS volume.... \")\n",
    "            break\n",
    "        \n",
    "        \n",
    "        \n",
    "        else: \n",
    "            cv2.putText(image, \"Don't know Who are you\", (250, 450), cv2.FONT_HERSHEY_COMPLEX, 1, (0,0,255),2)\n",
    "            cv2.imshow('Face Recognition', image )\n",
    "            \n",
    "    except: \n",
    "        cv2.putText(image, \"No Face Found\", (220, 120), cv2.FONT_HERSHEY_COMPLEX, 1, (0,0,255),2)\n",
    "        cv2.putText(image, \"Looking for face\", (250, 450), cv2.FONT_HERSHEY_COMPLEX, 1, (0,0,255),2)\n",
    "        cv2.imshow('Face Recognition', image )\n",
    "        pass\n",
    "        \n",
    "    if cv2.waitKey(1) == 13:\n",
    "        break\n",
    "        \n",
    "        \n",
    "cap.release()\n",
    "cv2.destroyAllWindows()"
   ]
  },
  {
   "cell_type": "code",
   "execution_count": null,
   "metadata": {},
   "outputs": [],
   "source": []
  },
  {
   "cell_type": "code",
   "execution_count": null,
   "metadata": {},
   "outputs": [],
   "source": []
  }
 ],
 "metadata": {
  "kernelspec": {
   "display_name": "Python 3",
   "language": "python",
   "name": "python3"
  },
  "language_info": {
   "codemirror_mode": {
    "name": "ipython",
    "version": 3
   },
   "file_extension": ".py",
   "mimetype": "text/x-python",
   "name": "python",
   "nbconvert_exporter": "python",
   "pygments_lexer": "ipython3",
   "version": "3.8.3"
  }
 },
 "nbformat": 4,
 "nbformat_minor": 4
}
